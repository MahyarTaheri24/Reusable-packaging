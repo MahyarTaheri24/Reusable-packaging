{
 "cells": [
  {
   "cell_type": "code",
   "execution_count": 1,
   "metadata": {},
   "outputs": [],
   "source": [
    "import numpy as np\n",
    "import matplotlib.pyplot as plt\n",
    "import sympy as sp"
   ]
  },
  {
   "cell_type": "code",
   "execution_count": 3,
   "metadata": {},
   "outputs": [
    {
     "data": {
      "text/plain": [
       "{'First-order derivatives': {'D_r_p_r': -1/alpha,\n",
       "  'D_r_tau': -(-delta**2*tau/h_bar + 1)/alpha,\n",
       "  'omega_p_r': -2*delta*tau/(delta**2*tau**2 + 2*h_bar*(alpha - p_r - tau)) + 2*h_bar*(delta**2*tau**2 + 2*delta*tau*(alpha - p_r - tau))/(delta**2*tau**2 + 2*h_bar*(alpha - p_r - tau))**2,\n",
       "  'omega_tau': (-2*delta**2*tau + 2*h_bar)*(delta**2*tau**2 + 2*delta*tau*(alpha - p_r - tau))/(delta**2*tau**2 + 2*h_bar*(alpha - p_r - tau))**2 + (2*delta**2*tau - 2*delta*tau + 2*delta*(alpha - p_r - tau))/(delta**2*tau**2 + 2*h_bar*(alpha - p_r - tau)),\n",
       "  'X_p_r': c_b*(2*delta*tau/(delta**2*tau**2 + 2*h_bar*(alpha - p_r - tau)) - 2*h_bar*(delta**2*tau**2 + 2*delta*tau*(alpha - p_r - tau))/(delta**2*tau**2 + 2*h_bar*(alpha - p_r - tau))**2) - 2*delta*tau*(c_l + c_o + tau)/(delta**2*tau**2 + 2*h_bar*(alpha - p_r - tau)) + 2*h_bar*(delta**2*tau**2 + 2*delta*tau*(alpha - p_r - tau))*(c_l + c_o + tau)/(delta**2*tau**2 + 2*h_bar*(alpha - p_r - tau))**2,\n",
       "  'X_tau': c_b*(-(-2*delta**2*tau + 2*h_bar)*(delta**2*tau**2 + 2*delta*tau*(alpha - p_r - tau))/(delta**2*tau**2 + 2*h_bar*(alpha - p_r - tau))**2 - (2*delta**2*tau - 2*delta*tau + 2*delta*(alpha - p_r - tau))/(delta**2*tau**2 + 2*h_bar*(alpha - p_r - tau))) + (-2*delta**2*tau + 2*h_bar)*(delta**2*tau**2 + 2*delta*tau*(alpha - p_r - tau))*(c_l + c_o + tau)/(delta**2*tau**2 + 2*h_bar*(alpha - p_r - tau))**2 + (delta**2*tau**2 + 2*delta*tau*(alpha - p_r - tau))/(delta**2*tau**2 + 2*h_bar*(alpha - p_r - tau)) + (c_l + c_o + tau)*(2*delta**2*tau - 2*delta*tau + 2*delta*(alpha - p_r - tau))/(delta**2*tau**2 + 2*h_bar*(alpha - p_r - tau))},\n",
       " 'Second-order derivatives': {'D_r_p_r2': 0,\n",
       "  'D_r_tau2': delta**2/(alpha*h_bar),\n",
       "  'D_r_p_r_tau': 0,\n",
       "  'omega_p_r2': -8*delta*h_bar*tau/(delta**2*tau**2 + 2*h_bar*(alpha - p_r - tau))**2 + 8*h_bar**2*(delta**2*tau**2 + 2*delta*tau*(alpha - p_r - tau))/(delta**2*tau**2 + 2*h_bar*(alpha - p_r - tau))**3,\n",
       "  'omega_tau2': -2*delta**2*(delta**2*tau**2 + 2*delta*tau*(alpha - p_r - tau))/(delta**2*tau**2 + 2*h_bar*(alpha - p_r - tau))**2 + (2*delta**2 - 4*delta)/(delta**2*tau**2 + 2*h_bar*(alpha - p_r - tau)) + (-4*delta**2*tau + 4*h_bar)*(-2*delta**2*tau + 2*h_bar)*(delta**2*tau**2 + 2*delta*tau*(alpha - p_r - tau))/(delta**2*tau**2 + 2*h_bar*(alpha - p_r - tau))**3 + 2*(-2*delta**2*tau + 2*h_bar)*(2*delta**2*tau - 2*delta*tau + 2*delta*(alpha - p_r - tau))/(delta**2*tau**2 + 2*h_bar*(alpha - p_r - tau))**2,\n",
       "  'omega_p_r_tau': -2*delta*tau*(-2*delta**2*tau + 2*h_bar)/(delta**2*tau**2 + 2*h_bar*(alpha - p_r - tau))**2 - 2*delta/(delta**2*tau**2 + 2*h_bar*(alpha - p_r - tau)) + 2*h_bar*(-4*delta**2*tau + 4*h_bar)*(delta**2*tau**2 + 2*delta*tau*(alpha - p_r - tau))/(delta**2*tau**2 + 2*h_bar*(alpha - p_r - tau))**3 + 2*h_bar*(2*delta**2*tau - 2*delta*tau + 2*delta*(alpha - p_r - tau))/(delta**2*tau**2 + 2*h_bar*(alpha - p_r - tau))**2,\n",
       "  'X_p_r2': c_b*(8*delta*h_bar*tau/(delta**2*tau**2 + 2*h_bar*(alpha - p_r - tau))**2 - 8*h_bar**2*(delta**2*tau**2 + 2*delta*tau*(alpha - p_r - tau))/(delta**2*tau**2 + 2*h_bar*(alpha - p_r - tau))**3) - 8*delta*h_bar*tau*(c_l + c_o + tau)/(delta**2*tau**2 + 2*h_bar*(alpha - p_r - tau))**2 + 8*h_bar**2*(delta**2*tau**2 + 2*delta*tau*(alpha - p_r - tau))*(c_l + c_o + tau)/(delta**2*tau**2 + 2*h_bar*(alpha - p_r - tau))**3,\n",
       "  'X_tau2': c_b*(2*delta**2*(delta**2*tau**2 + 2*delta*tau*(alpha - p_r - tau))/(delta**2*tau**2 + 2*h_bar*(alpha - p_r - tau))**2 - (2*delta**2 - 4*delta)/(delta**2*tau**2 + 2*h_bar*(alpha - p_r - tau)) - (-4*delta**2*tau + 4*h_bar)*(-2*delta**2*tau + 2*h_bar)*(delta**2*tau**2 + 2*delta*tau*(alpha - p_r - tau))/(delta**2*tau**2 + 2*h_bar*(alpha - p_r - tau))**3 - 2*(-2*delta**2*tau + 2*h_bar)*(2*delta**2*tau - 2*delta*tau + 2*delta*(alpha - p_r - tau))/(delta**2*tau**2 + 2*h_bar*(alpha - p_r - tau))**2) - 2*delta**2*(delta**2*tau**2 + 2*delta*tau*(alpha - p_r - tau))*(c_l + c_o + tau)/(delta**2*tau**2 + 2*h_bar*(alpha - p_r - tau))**2 + (2*delta**2 - 4*delta)*(c_l + c_o + tau)/(delta**2*tau**2 + 2*h_bar*(alpha - p_r - tau)) + (-4*delta**2*tau + 4*h_bar)*(-2*delta**2*tau + 2*h_bar)*(delta**2*tau**2 + 2*delta*tau*(alpha - p_r - tau))*(c_l + c_o + tau)/(delta**2*tau**2 + 2*h_bar*(alpha - p_r - tau))**3 + 2*(-2*delta**2*tau + 2*h_bar)*(delta**2*tau**2 + 2*delta*tau*(alpha - p_r - tau))/(delta**2*tau**2 + 2*h_bar*(alpha - p_r - tau))**2 + 2*(-2*delta**2*tau + 2*h_bar)*(c_l + c_o + tau)*(2*delta**2*tau - 2*delta*tau + 2*delta*(alpha - p_r - tau))/(delta**2*tau**2 + 2*h_bar*(alpha - p_r - tau))**2 + 2*(2*delta**2*tau - 2*delta*tau + 2*delta*(alpha - p_r - tau))/(delta**2*tau**2 + 2*h_bar*(alpha - p_r - tau)),\n",
       "  'X_p_r_tau': c_b*(2*delta*tau*(-2*delta**2*tau + 2*h_bar)/(delta**2*tau**2 + 2*h_bar*(alpha - p_r - tau))**2 + 2*delta/(delta**2*tau**2 + 2*h_bar*(alpha - p_r - tau)) - 2*h_bar*(-4*delta**2*tau + 4*h_bar)*(delta**2*tau**2 + 2*delta*tau*(alpha - p_r - tau))/(delta**2*tau**2 + 2*h_bar*(alpha - p_r - tau))**3 - 2*h_bar*(2*delta**2*tau - 2*delta*tau + 2*delta*(alpha - p_r - tau))/(delta**2*tau**2 + 2*h_bar*(alpha - p_r - tau))**2) - 2*delta*tau*(-2*delta**2*tau + 2*h_bar)*(c_l + c_o + tau)/(delta**2*tau**2 + 2*h_bar*(alpha - p_r - tau))**2 - 2*delta*tau/(delta**2*tau**2 + 2*h_bar*(alpha - p_r - tau)) - 2*delta*(c_l + c_o + tau)/(delta**2*tau**2 + 2*h_bar*(alpha - p_r - tau)) + 2*h_bar*(-4*delta**2*tau + 4*h_bar)*(delta**2*tau**2 + 2*delta*tau*(alpha - p_r - tau))*(c_l + c_o + tau)/(delta**2*tau**2 + 2*h_bar*(alpha - p_r - tau))**3 + 2*h_bar*(delta**2*tau**2 + 2*delta*tau*(alpha - p_r - tau))/(delta**2*tau**2 + 2*h_bar*(alpha - p_r - tau))**2 + 2*h_bar*(c_l + c_o + tau)*(2*delta**2*tau - 2*delta*tau + 2*delta*(alpha - p_r - tau))/(delta**2*tau**2 + 2*h_bar*(alpha - p_r - tau))**2}}"
      ]
     },
     "execution_count": 3,
     "metadata": {},
     "output_type": "execute_result"
    }
   ],
   "source": [
    "# Define variables\n",
    "p_r, tau, alpha, delta, h_bar, c_o, c_l, c_b = sp.symbols('p_r tau alpha delta h_bar c_o c_l c_b')\n",
    "\n",
    "# Define functions\n",
    "D_r = 1 - (p_r + tau - ((delta * tau) ** 2) / (2 * h_bar)) / alpha\n",
    "omega = (2 * delta * tau * (alpha - p_r - tau) + (delta * tau) ** 2) / (2 * h_bar * (alpha - p_r - tau) + (delta * tau) ** 2)\n",
    "X = omega * (c_o + c_l + tau) + (1 - omega) * c_b\n",
    "\n",
    "# Compute first-order derivatives\n",
    "D_r_p_r = sp.diff(D_r, p_r)\n",
    "D_r_tau = sp.diff(D_r, tau)\n",
    "\n",
    "omega_p_r = sp.diff(omega, p_r)\n",
    "omega_tau = sp.diff(omega, tau)\n",
    "\n",
    "X_p_r = sp.diff(X, p_r)\n",
    "X_tau = sp.diff(X, tau)\n",
    "\n",
    "# Compute second-order derivatives\n",
    "D_r_p_r2 = sp.diff(D_r_p_r, p_r)\n",
    "D_r_tau2 = sp.diff(D_r_tau, tau)\n",
    "D_r_p_r_tau = sp.diff(D_r_p_r, tau)\n",
    "\n",
    "omega_p_r2 = sp.diff(omega_p_r, p_r)\n",
    "omega_tau2 = sp.diff(omega_tau, tau)\n",
    "omega_p_r_tau = sp.diff(omega_p_r, tau)\n",
    "\n",
    "X_p_r2 = sp.diff(X_p_r, p_r)\n",
    "X_tau2 = sp.diff(X_tau, tau)\n",
    "X_p_r_tau = sp.diff(X_p_r, tau)\n",
    "\n",
    "# Store results in a dictionary\n",
    "derivatives = {\n",
    "    \"First-order derivatives\": {\n",
    "        \"D_r_p_r\": D_r_p_r, \"D_r_tau\": D_r_tau,\n",
    "        \"omega_p_r\": omega_p_r, \"omega_tau\": omega_tau,\n",
    "        \"X_p_r\": X_p_r, \"X_tau\": X_tau\n",
    "    },\n",
    "    \"Second-order derivatives\": {\n",
    "        \"D_r_p_r2\": D_r_p_r2, \"D_r_tau2\": D_r_tau2, \"D_r_p_r_tau\": D_r_p_r_tau,\n",
    "        \"omega_p_r2\": omega_p_r2, \"omega_tau2\": omega_tau2, \"omega_p_r_tau\": omega_p_r_tau,\n",
    "        \"X_p_r2\": X_p_r2, \"X_tau2\": X_tau2, \"X_p_r_tau\": X_p_r_tau\n",
    "    }\n",
    "}\n",
    "\n",
    "# Display results\n",
    "derivatives\n"
   ]
  },
  {
   "cell_type": "code",
   "execution_count": 4,
   "metadata": {},
   "outputs": [],
   "source": [
    "def D_r(p_r, tau,c_b,c_o,c_l,alpha,delta,h_bar):\n",
    "    return 1 - (p_r + tau - ((delta * tau) ** 2) / (2 * h_bar)) / alpha\n",
    "\n",
    "def omega(p_r, tau,c_b,c_o,c_l,alpha,delta,h_bar):\n",
    "    return (2 * delta * tau * (alpha - p_r - tau) + (delta * tau) ** 2) / (2 * h_bar * (alpha - p_r - tau) + (delta * tau) ** 2)\n",
    "\n",
    "def X(p_r, tau,c_b,c_o,c_l,alpha,delta,h_bar):  \n",
    "    return omega(p_r, tau) * (c_o + c_l + tau) + (1 - omega(p_r, tau)) * c_b\n",
    "\n",
    "def D_r_p_r(p_r, tau,c_b,c_o,c_l,alpha,delta,h_bar):\n",
    "    return -1 / alpha\n",
    "\n",
    "def D_r_tau(p_r, tau,c_b,c_o,c_l,alpha,delta,h_bar):\n",
    "    return -(-delta**2*tau/h_bar + 1)/alpha\n",
    "\n",
    "def omega_p_r(p_r, tau,c_b,c_o,c_l,alpha,delta,h_bar):\n",
    "      return -2*delta*tau/(delta**2*tau**2 + 2*h_bar*(alpha - p_r - tau)) + 2*h_bar*(delta**2*tau**2 + 2*delta*tau*(alpha - p_r - tau))/(delta**2*tau**2 + 2*h_bar*(alpha - p_r - tau))**2\n",
    "\n",
    "def omega_tau(p_r, tau,c_b,c_o,c_l,alpha,delta,h_bar):\n",
    "     return (-2*delta**2*tau + 2*h_bar)*(delta**2*tau**2 + 2*delta*tau*(alpha - p_r - tau))/(delta**2*tau**2 + 2*h_bar*(alpha - p_r - tau))**2 + (2*delta**2*tau - 2*delta*tau + 2*delta*(alpha - p_r - tau))/(delta**2*tau**2 + 2*h_bar*(alpha - p_r - tau))\n",
    "\n",
    "\n",
    "def X_p_r(p_r, tau,c_b,c_o,c_l,alpha,delta,h_bar):\n",
    "    return  c_b*(2*delta*tau/(delta**2*tau**2 + 2*h_bar*(alpha - p_r - tau)) - 2*h_bar*(delta**2*tau**2 + 2*delta*tau*(alpha - p_r - tau))/(delta**2*tau**2 + 2*h_bar*(alpha - p_r - tau))**2) - 2*delta*tau*(c_l + c_o + tau)/(delta**2*tau**2 + 2*h_bar*(alpha - p_r - tau)) + 2*h_bar*(delta**2*tau**2 + 2*delta*tau*(alpha - p_r - tau))*(c_l + c_o + tau)/(delta**2*tau**2 + 2*h_bar*(alpha - p_r - tau))**2\n",
    "\n",
    "def X_tau(p_r, tau,c_b,c_o,c_l,alpha,delta,h_bar):\n",
    "    return c_b*(-(-2*delta**2*tau + 2*h_bar)*(delta**2*tau**2 + 2*delta*tau*(alpha - p_r - tau))/(delta**2*tau**2 + 2*h_bar*(alpha - p_r - tau))**2 - (2*delta**2*tau - 2*delta*tau + 2*delta*(alpha - p_r - tau))/(delta**2*tau**2 + 2*h_bar*(alpha - p_r - tau))) + (-2*delta**2*tau + 2*h_bar)*(delta**2*tau**2 + 2*delta*tau*(alpha - p_r - tau))*(c_l + c_o + tau)/(delta**2*tau**2 + 2*h_bar*(alpha - p_r - tau))**2 + (delta**2*tau**2 + 2*delta*tau*(alpha - p_r - tau))/(delta**2*tau**2 + 2*h_bar*(alpha - p_r - tau)) + (c_l + c_o + tau)*(2*delta**2*tau - 2*delta*tau + 2*delta*(alpha - p_r - tau))/(delta**2*tau**2 + 2*h_bar*(alpha - p_r - tau))\n"
   ]
  },
  {
   "cell_type": "code",
   "execution_count": 5,
   "metadata": {},
   "outputs": [],
   "source": [
    "def D_r_p_r2(p_r, tau,c_b,c_o,c_l,alpha,delta,h_bar):\n",
    "    return 0\n",
    "\n",
    "def D_r_tau2(p_r, tau,c_b,c_o,c_l,alpha,delta,h_bar): \n",
    "    return delta**2/(alpha*h_bar)\n",
    "\n",
    "def D_r_p_r_tau(p_r, tau,c_b,c_o,c_l,alpha,delta,h_bar):  \n",
    "    return 0\n",
    "\n",
    "def omega_p_r2(p_r, tau,c_b,c_o,c_l,alpha,delta,h_bar):\n",
    "    return  -8*delta*h_bar*tau/(delta**2*tau**2 + 2*h_bar*(alpha - p_r - tau))**2 + 8*h_bar**2*(delta**2*tau**2 + 2*delta*tau*(alpha - p_r - tau))/(delta**2*tau**2 + 2*h_bar*(alpha - p_r - tau))**3\n",
    "\n",
    "def omega_tau2(p_r,tau,c_b,c_o,c_l,alpha,delta,h_bar):\n",
    "    return -2*delta**2*(delta**2*tau**2 + 2*delta*tau*(alpha - p_r - tau))/(delta**2*tau**2 + 2*h_bar*(alpha - p_r - tau))**2 + (2*delta**2 - 4*delta)/(delta**2*tau**2 + 2*h_bar*(alpha - p_r - tau)) + (-4*delta**2*tau + 4*h_bar)*(-2*delta**2*tau + 2*h_bar)*(delta**2*tau**2 + 2*delta*tau*(alpha - p_r - tau))/(delta**2*tau**2 + 2*h_bar*(alpha - p_r - tau))**3 + 2*(-2*delta**2*tau + 2*h_bar)*(2*delta**2*tau - 2*delta*tau + 2*delta*(alpha - p_r - tau))/(delta**2*tau**2 + 2*h_bar*(alpha - p_r - tau))**2\n",
    "\n",
    "def omega_p_r_tau(p_r,tau,c_b,c_o,c_l,alpha,delta,h_bar):\n",
    "    return -2*delta*tau*(-2*delta**2*tau + 2*h_bar)/(delta**2*tau**2 + 2*h_bar*(alpha - p_r - tau))**2 - 2*delta/(delta**2*tau**2 + 2*h_bar*(alpha - p_r - tau)) + 2*h_bar*(-4*delta**2*tau + 4*h_bar)*(delta**2*tau**2 + 2*delta*tau*(alpha - p_r - tau))/(delta**2*tau**2 + 2*h_bar*(alpha - p_r - tau))**3 + 2*h_bar*(2*delta**2*tau - 2*delta*tau + 2*delta*(alpha - p_r - tau))/(delta**2*tau**2 + 2*h_bar*(alpha - p_r - tau))**2\n",
    "\n",
    "def X_p_r2(p_r, tau,c_b,c_o,c_l,alpha,delta,h_bar):\n",
    "    return c_b*(8*delta*h_bar*tau/(delta**2*tau**2 + 2*h_bar*(alpha - p_r - tau))**2 - 8*h_bar**2*(delta**2*tau**2 + 2*delta*tau*(alpha - p_r - tau))/(delta**2*tau**2 + 2*h_bar*(alpha - p_r - tau))**3) - 8*delta*h_bar*tau*(c_l + c_o + tau)/(delta**2*tau**2 + 2*h_bar*(alpha - p_r - tau))**2 + 8*h_bar**2*(delta**2*tau**2 + 2*delta*tau*(alpha - p_r - tau))*(c_l + c_o + tau)/(delta**2*tau**2 + 2*h_bar*(alpha - p_r - tau))**3\n",
    "\n",
    "def X_tau2(p_r, tau,c_b,c_o,c_l,alpha,delta,h_bar):\n",
    "    return  c_b*(2*delta**2*(delta**2*tau**2 + 2*delta*tau*(alpha - p_r - tau))/(delta**2*tau**2 + 2*h_bar*(alpha - p_r - tau))**2 - (2*delta**2 - 4*delta)/(delta**2*tau**2 + 2*h_bar*(alpha - p_r - tau)) - (-4*delta**2*tau + 4*h_bar)*(-2*delta**2*tau + 2*h_bar)*(delta**2*tau**2 + 2*delta*tau*(alpha - p_r - tau))/(delta**2*tau**2 + 2*h_bar*(alpha - p_r - tau))**3 - 2*(-2*delta**2*tau + 2*h_bar)*(2*delta**2*tau - 2*delta*tau + 2*delta*(alpha - p_r - tau))/(delta**2*tau**2 + 2*h_bar*(alpha - p_r - tau))**2) - 2*delta**2*(delta**2*tau**2 + 2*delta*tau*(alpha - p_r - tau))*(c_l + c_o + tau)/(delta**2*tau**2 + 2*h_bar*(alpha - p_r - tau))**2 + (2*delta**2 - 4*delta)*(c_l + c_o + tau)/(delta**2*tau**2 + 2*h_bar*(alpha - p_r - tau)) + (-4*delta**2*tau + 4*h_bar)*(-2*delta**2*tau + 2*h_bar)*(delta**2*tau**2 + 2*delta*tau*(alpha - p_r - tau))*(c_l + c_o + tau)/(delta**2*tau**2 + 2*h_bar*(alpha - p_r - tau))**3 + 2*(-2*delta**2*tau + 2*h_bar)*(delta**2*tau**2 + 2*delta*tau*(alpha - p_r - tau))/(delta**2*tau**2 + 2*h_bar*(alpha - p_r - tau))**2 + 2*(-2*delta**2*tau + 2*h_bar)*(c_l + c_o + tau)*(2*delta**2*tau - 2*delta*tau + 2*delta*(alpha - p_r - tau))/(delta**2*tau**2 + 2*h_bar*(alpha - p_r - tau))**2 + 2*(2*delta**2*tau - 2*delta*tau + 2*delta*(alpha - p_r - tau))/(delta**2*tau**2 + 2*h_bar*(alpha - p_r - tau))\n",
    "\n",
    "def X_p_r_tau(p_r, tau,c_b,c_o,c_l,alpha,delta,h_bar):\n",
    "    return  c_b*(2*delta*tau*(-2*delta**2*tau + 2*h_bar)/(delta**2*tau**2 + 2*h_bar*(alpha - p_r - tau))**2 + 2*delta/(delta**2*tau**2 + 2*h_bar*(alpha - p_r - tau)) - 2*h_bar*(-4*delta**2*tau + 4*h_bar)*(delta**2*tau**2 + 2*delta*tau*(alpha - p_r - tau))/(delta**2*tau**2 + 2*h_bar*(alpha - p_r - tau))**3 - 2*h_bar*(2*delta**2*tau - 2*delta*tau + 2*delta*(alpha - p_r - tau))/(delta**2*tau**2 + 2*h_bar*(alpha - p_r - tau))**2) - 2*delta*tau*(-2*delta**2*tau + 2*h_bar)*(c_l + c_o + tau)/(delta**2*tau**2 + 2*h_bar*(alpha - p_r - tau))**2 - 2*delta*tau/(delta**2*tau**2 + 2*h_bar*(alpha - p_r - tau)) - 2*delta*(c_l + c_o + tau)/(delta**2*tau**2 + 2*h_bar*(alpha - p_r - tau)) + 2*h_bar*(-4*delta**2*tau + 4*h_bar)*(delta**2*tau**2 + 2*delta*tau*(alpha - p_r - tau))*(c_l + c_o + tau)/(delta**2*tau**2 + 2*h_bar*(alpha - p_r - tau))**3 + 2*h_bar*(delta**2*tau**2 + 2*delta*tau*(alpha - p_r - tau))/(delta**2*tau**2 + 2*h_bar*(alpha - p_r - tau))**2 + 2*h_bar*(c_l + c_o + tau)*(2*delta**2*tau - 2*delta*tau + 2*delta*(alpha - p_r - tau))/(delta**2*tau**2 + 2*h_bar*(alpha - p_r - tau))**2\n",
    "    "
   ]
  },
  {
   "cell_type": "code",
   "execution_count": 6,
   "metadata": {},
   "outputs": [],
   "source": [
    "def Hessian_matrix(p_r, tau,c_b,c_o,c_l,alpha,delta,h_bar):\n",
    "    first=X_p_r2(p_r, tau,c_b,c_o,c_l,alpha,delta,h_bar)* X_tau2(p_r, tau,c_b,c_o,c_l,alpha,delta,h_bar)*D_r(p_r, tau,c_b,c_o,c_l,alpha,delta,h_bar)**2\n",
    "    second=-2*(1-X_tau(p_r, tau,c_b,c_o,c_l,alpha,delta,h_bar))*D_r_tau(p_r, tau,c_b,c_o,c_l,alpha,delta,h_bar)*X_p_r2(p_r, tau,c_b,c_o,c_l,alpha,delta,h_bar)*D_r(p_r, tau,c_b,c_o,c_l,alpha,delta,h_bar)\n",
    "    third=X_p_r2(p_r, tau,c_b,c_o,c_l,alpha,delta,h_bar)*(1-X_p_r(p_r, tau,c_b,c_o,c_l,alpha,delta,h_bar))*D_r_tau2(p_r, tau,c_b,c_o,c_l,alpha,delta,h_bar)*(1/D_r_p_r(p_r, tau,c_b,c_o,c_l,alpha,delta,h_bar))*D_r(p_r, tau,c_b,c_o,c_l,alpha,delta,h_bar)**2\n",
    "    fourth=-2*(1-X_p_r(p_r, tau,c_b,c_o,c_l,alpha,delta,h_bar))*D_r_p_r(p_r, tau,c_b,c_o,c_l,alpha,delta,h_bar)*X_tau2(p_r, tau,c_b,c_o,c_l,alpha,delta,h_bar)*D_r(p_r, tau,c_b,c_o,c_l,alpha,delta,h_bar)\n",
    "    fifth=-2*(1-X_p_r(p_r, tau,c_b,c_o,c_l,alpha,delta,h_bar))**2 *D_r(p_r, tau,c_b,c_o,c_l,alpha,delta,h_bar)*D_r_tau2(p_r, tau,c_b,c_o,c_l,alpha,delta,h_bar)\n",
    "    sixth=-(X_p_r_tau(p_r, tau,c_b,c_o,c_l,alpha,delta,h_bar))**2*D_r(p_r, tau,c_b,c_o,c_l,alpha,delta,h_bar)**2\n",
    "    seventh=4*X_p_r_tau(p_r, tau,c_b,c_o,c_l,alpha,delta,h_bar)*D_r(p_r, tau,c_b,c_o,c_l,alpha,delta,h_bar)*(1-X_p_r(p_r, tau,c_b,c_o,c_l,alpha,delta,h_bar))*D_r_tau(p_r, tau,c_b,c_o,c_l,alpha,delta,h_bar)\n",
    "    return first+second+third+fourth+fifth+sixth+seventh\n",
    "\n"
   ]
  },
  {
   "cell_type": "code",
   "execution_count": 7,
   "metadata": {},
   "outputs": [],
   "source": [
    "def second_order_condtions_price(p_r, tau,c_b,c_o,c_l,alpha,delta,h_bar):\n",
    "    return -X_p_r2(p_r,tau,c_b,c_o,c_l,alpha,delta,h_bar)*D_r(p_r,tau,c_b,c_o,c_l,alpha,delta,h_bar)+2*(1-X_p_r(p_r,tau,c_b,c_o,c_l,alpha,delta,h_bar))*D_r_p_r(p_r,tau,c_b,c_o,c_l,alpha,delta,h_bar)"
   ]
  },
  {
   "cell_type": "code",
   "execution_count": 8,
   "metadata": {},
   "outputs": [],
   "source": [
    "# Info\n",
    "p_d=0.7  \n",
    "    "
   ]
  },
  {
   "cell_type": "code",
   "execution_count": 17,
   "metadata": {},
   "outputs": [],
   "source": [
    "p_r_values=np.linspace(0,1,20)\n",
    "tau_values=np.linspace(0,1,20)\n",
    "c_b_values=np.linspace(0.1,0.3,5)\n",
    "c_o_values=np.linspace(0.01,0.03,5)\n",
    "c_l_values=np.linspace(0.01,0.03,5)\n",
    "alpha_values=np.linspace(1,1.2,5)  \n",
    "delta_values=np.linspace(0.1,1,5)\n",
    "h_bar_values=np.linspace(0.05,0.15,5)\n"
   ]
  },
  {
   "cell_type": "code",
   "execution_count": 18,
   "metadata": {},
   "outputs": [],
   "source": [
    "matrix_X_p_r2=np.zeros([len(p_r_values),len(tau_values),len(c_b_values),len(c_o_values),len(c_l_values),len(alpha_values),len(delta_values),len(h_bar_values)])\n",
    "matrix_X_tau2=np.zeros([len(p_r_values),len(tau_values),len(c_b_values),len(c_o_values),len(c_l_values),len(alpha_values),len(delta_values),len(h_bar_values)])\n",
    "matrix_X_tau2=np.zeros([len(p_r_values),len(tau_values),len(c_b_values),len(c_o_values),len(c_l_values),len(alpha_values),len(delta_values),len(h_bar_values)])   \n",
    "matrix_X_p_r_tau=np.zeros([len(p_r_values),len(tau_values),len(c_b_values),len(c_o_values),len(c_l_values),len(alpha_values),len(delta_values),len(h_bar_values)])\n",
    "matrix_Hessian=np.zeros([len(p_r_values),len(tau_values),len(c_b_values),len(c_o_values),len(c_l_values),len(alpha_values),len(delta_values),len(h_bar_values)])\n",
    "matrix_second_order_conditions=np.zeros([len(p_r_values),len(tau_values),len(c_b_values),len(c_o_values),len(c_l_values),len(alpha_values),len(delta_values),len(h_bar_values)])\n"
   ]
  },
  {
   "cell_type": "code",
   "execution_count": 19,
   "metadata": {},
   "outputs": [],
   "source": [
    "for i,p_r in enumerate(p_r_values):\n",
    "    for j,tau in enumerate(tau_values):\n",
    "        for k,c_b in enumerate(c_b_values):\n",
    "            for l,c_o in enumerate(c_o_values):\n",
    "                for m,c_l in enumerate(c_l_values):\n",
    "                    for n,alpha in enumerate(alpha_values):\n",
    "                        for o,delta in enumerate(delta_values):\n",
    "                            for p,h_bar in enumerate(h_bar_values):\n",
    "                                if (p_r+tau-((delta*tau)**2/(2*h_bar))<=alpha*p_d) and (delta*tau<=h_bar):\n",
    "                                    matrix_X_p_r2[i,j,k,l,m,n,o,p]=X_p_r2(p_r, tau,c_b,c_o,c_l,alpha,delta,h_bar)\n",
    "                                    matrix_X_tau2[i,j,k,l,m,n,o,p]=X_tau2(p_r, tau,c_b,c_o,c_l,alpha,delta,h_bar)\n",
    "                                    matrix_X_p_r_tau[i,j,k,l,m,n,o,p]=X_p_r_tau(p_r, tau,c_b,c_o,c_l,alpha,delta,h_bar)\n",
    "                                    matrix_Hessian[i,j,k,l,m,n,o,p]=Hessian_matrix(p_r, tau,c_b,c_o,c_l,alpha,delta,h_bar)\n",
    "                                    matrix_second_order_conditions[i,j,k,l,m,n,o,p]=second_order_condtions_price(p_r, tau,c_b,c_o,c_l,alpha,delta,h_bar)"
   ]
  },
  {
   "cell_type": "code",
   "execution_count": 20,
   "metadata": {},
   "outputs": [
    {
     "data": {
      "text/plain": [
       "array([], dtype=float64)"
      ]
     },
     "execution_count": 20,
     "metadata": {},
     "output_type": "execute_result"
    }
   ],
   "source": [
    "matrix_Hessian[matrix_Hessian<0]"
   ]
  },
  {
   "cell_type": "code",
   "execution_count": 21,
   "metadata": {},
   "outputs": [
    {
     "data": {
      "text/plain": [
       "array([], dtype=float64)"
      ]
     },
     "execution_count": 21,
     "metadata": {},
     "output_type": "execute_result"
    }
   ],
   "source": [
    "matrix_second_order_conditions[matrix_second_order_conditions>0]"
   ]
  },
  {
   "cell_type": "code",
   "execution_count": 22,
   "metadata": {},
   "outputs": [
    {
     "data": {
      "text/plain": [
       "0"
      ]
     },
     "execution_count": 22,
     "metadata": {},
     "output_type": "execute_result"
    }
   ],
   "source": [
    "np.sum(matrix_Hessian<0)"
   ]
  },
  {
   "cell_type": "code",
   "execution_count": 23,
   "metadata": {},
   "outputs": [
    {
     "data": {
      "text/plain": [
       "0"
      ]
     },
     "execution_count": 23,
     "metadata": {},
     "output_type": "execute_result"
    }
   ],
   "source": [
    "np.sum(matrix_second_order_conditions>0)"
   ]
  }
 ],
 "metadata": {
  "kernelspec": {
   "display_name": "base",
   "language": "python",
   "name": "python3"
  },
  "language_info": {
   "codemirror_mode": {
    "name": "ipython",
    "version": 3
   },
   "file_extension": ".py",
   "mimetype": "text/x-python",
   "name": "python",
   "nbconvert_exporter": "python",
   "pygments_lexer": "ipython3",
   "version": "3.12.4"
  }
 },
 "nbformat": 4,
 "nbformat_minor": 2
}
